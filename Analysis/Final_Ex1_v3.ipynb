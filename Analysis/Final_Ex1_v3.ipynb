{
 "cells": [
  {
   "cell_type": "code",
   "execution_count": 1,
   "metadata": {},
   "outputs": [],
   "source": [
    "import numpy as np\n",
    "import matplotlib.pyplot as plt\n",
    "from scipy.optimize import fsolve"
   ]
  },
  {
   "cell_type": "markdown",
   "metadata": {},
   "source": [
    "## Resolution"
   ]
  },
  {
   "cell_type": "markdown",
   "metadata": {},
   "source": [
    "### Lagrangian multipliers"
   ]
  },
  {
   "cell_type": "code",
   "execution_count": 2,
   "metadata": {},
   "outputs": [
    {
     "data": {
      "image/png": "[encoded data removed]",
      "text/plain": [
       "<Figure size 432x288 with 1 Axes>"
      ]
     },
     "metadata": {
      "needs_background": "light"
     },
     "output_type": "display_data"
    }
   ],
   "source": [
    "\n",
    "#D_i - this function returns the number of people that will buy a ticket at price p belonging to the price bucket a\n",
    "def DFunc(p,a):\n",
    "    return a*np.exp(-p*(1/a))\n",
    "\n",
    "#- D_i * p_i - this function represents the revenue related to tickets having price p and belonging to the price bucket a\n",
    "def Revenue(p,a):\n",
    "    return -p*DFunc(p,a)\n",
    "\n",
    "pRange = np.linspace(0,600,1200)\n",
    "\n",
    "fig1 = plt.figure()\n",
    "ax1 = fig1.add_subplot(111)\n",
    "#ax1.set_title(\"Cost Function profile along the plane y, p1\")\n",
    "ax1.set_xlabel(\"p1\")\n",
    "ax1.set_ylabel(\"-p1*D(p1)\")\n",
    "ax1.plot(pRange,Revenue(pRange,100))\n",
    "\n",
    "plt.savefig(\"D:\\\\BIG_DATA\\\\DSTI\\\\OneDrive - Data ScienceTech Institute\\\\2020-05-25-MetaHeuristic\\\\assignement\\\\explanation\\\\Figures\\\\\" + \"CostFunction.png\",bbox_inches='tight')"
   ]
  },
  {
   "cell_type": "code",
   "execution_count": 3,
   "metadata": {},
   "outputs": [],
   "source": [
    "#solution of Lagrange equation when all lambdas are set to 0 except for \n",
    "#lambda4 (Lagrange multiplier for the constraint on the number of people) \n",
    "\n",
    "def myFunction(z):\n",
    "    p1 = z[0]\n",
    "    p2 = z[1]\n",
    "    p3 = z[2]\n",
    "    lambda4 = z[3]\n",
    "    \n",
    "    F = np.empty((4))\n",
    "    F[0] = ((p1-100) - lambda4)*np.exp(-p1/100)\n",
    "    F[1] = ((p2-150) - lambda4)*np.exp(-p2/150)\n",
    "    F[2] = ((p3-300) - lambda4)*np.exp(-p3/300)\n",
    "    F[3] = ( 100 * np.exp(-p1/100) + 150 * np.exp(-p2/150) + 300 * np.exp(-p3/300) - 150)\n",
    "    \n",
    "    return F\n",
    "\n",
    "\n",
    "#grid of initial guess\n",
    "p1Range = [i for i in range(50,151,10)]\n",
    "\n",
    "p2Range = [i for i in range(100,201,10)]\n",
    "\n",
    "p3Range = [i for i in range(250,351,10)]\n",
    "\n",
    "lambda4Range = [i for i in range(10,111,10)]\n",
    "\n",
    "resultP1 = list()\n",
    "resultP2 = list()\n",
    "resultP3 = list()\n",
    "result   = list()\n",
    "\n",
    "# I tested several possible initial guess for the fsolve routine\n",
    "\n",
    "for i in p1Range:\n",
    "    \n",
    "    for j in p2Range:\n",
    "        \n",
    "        for l in p3Range:\n",
    "            \n",
    "            for m in lambda4Range:\n",
    "                \n",
    "                zGuess = np.array([i, j, l, m])\n",
    "    \n",
    "                resultIntermediate = fsolve(myFunction,zGuess)\n",
    "                \n",
    "                result.append(resultIntermediate)\n",
    "                \n",
    "                resultP1.append(resultIntermediate[0])\n",
    "                \n",
    "                resultP2.append(resultIntermediate[1])\n",
    "                \n",
    "                resultP3.append(resultIntermediate[2])\n"
   ]
  },
  {
   "cell_type": "code",
   "execution_count": 4,
   "metadata": {
    "scrolled": true
   },
   "outputs": [
    {
     "data": {
      "image/png": "[encoded data removed]",
      "text/plain": [
       "<Figure size 432x288 with 1 Axes>"
      ]
     },
     "metadata": {
      "needs_background": "light"
     },
     "output_type": "display_data"
    }
   ],
   "source": [
    "#Solutions are the same regardless the initial guess\n",
    "\n",
    "fig1 = plt.figure()\n",
    "ax1 = fig1.add_subplot(111)\n",
    "ax1.set_title(\"Solutions of Lagrange Equations for different starting points\")\n",
    "ax1.set_xlabel(\"Attempt number\")\n",
    "ax1.plot(range(1,len(resultP1)+1), resultP1, 'g', range(1,len(resultP1)+1),resultP2,'b',range(1,len(resultP1)+1),resultP3,'r')\n",
    "ax1.legend(['p1','p2','p3'])\n",
    "\n",
    "plt.savefig(\"D:\\\\BIG_DATA\\\\DSTI\\\\OneDrive - Data ScienceTech Institute\\\\2020-05-25-MetaHeuristic\\\\assignement\\\\explanation\\\\Figures\\\\\" + \"SolLagrange.png\",bbox_inches='tight')"
   ]
  },
  {
   "cell_type": "code",
   "execution_count": 5,
   "metadata": {
    "scrolled": false
   },
   "outputs": [
    {
     "name": "stdout",
     "output_type": "stream",
     "text": [
      "First price bucket is 156.74841942205822, and 20.856924256961985 people are meant to by a ticket at this price for 3269.2899112843775.\n",
      "\n",
      "Second price bucket is 206.74841952517284, and 37.80012831746722 people are meant to by a ticket at this price for 7815.116787485078.\n",
      "\n",
      "First price bucket is 356.74841956052893, and 91.34294743994501 people are meant to by a ticket at this price for 32586.452137200842.\n",
      "\n",
      "In total 150.00000001437422 people are meant to buy a ticket\n",
      "\n",
      "Total earning: 43670.8588359703\n"
     ]
    }
   ],
   "source": [
    "print(\"First price bucket is {0}, and {1} people are meant to by a ticket at this price for {2}.\\n\".format(result[0][0],DFunc(result[0][0],100),-1*(Revenue(result[0][0],100) )))\n",
    "print(\"Second price bucket is {0}, and {1} people are meant to by a ticket at this price for {2}.\\n\".format(result[0][1],DFunc(result[0][1],150),-1*(Revenue(result[0][1],150))))\n",
    "print(\"First price bucket is {0}, and {1} people are meant to by a ticket at this price for {2}.\\n\".format(result[0][2],DFunc(result[0][2],300),-1*(Revenue(result[0][2],300))))\n",
    "print(\"In total {0} people are meant to buy a ticket\\n\".format(DFunc(result[0][0],100) + DFunc(result[0][1],150) + DFunc(result[0][2],300)))\n",
    "print(\"Total earning: {0}\".format(-1*(Revenue(result[0][0],100) + Revenue(result[0][1],150) + Revenue(result[0][2],300))))"
   ]
  },
  {
   "cell_type": "markdown",
   "metadata": {},
   "source": [
    "## Sensitivity analysis"
   ]
  },
  {
   "cell_type": "markdown",
   "metadata": {},
   "source": [
    "### Relative Variation of the revenues changing one price at a time of 1%:"
   ]
  },
  {
   "cell_type": "code",
   "execution_count": 6,
   "metadata": {},
   "outputs": [
    {
     "data": {
      "text/plain": [
       "0.0004222483985195773"
      ]
     },
     "execution_count": 6,
     "metadata": {},
     "output_type": "execute_result"
    }
   ],
   "source": [
    "#decrease p1 of 1%\n",
    "( Revenue(result[0][0]*0.99,100) - Revenue(result[0][0],100)) /(( Revenue(result[0][0],100) + Revenue(result[0][1],150) + Revenue(result[0][2],300)))"
   ]
  },
  {
   "cell_type": "code",
   "execution_count": 7,
   "metadata": {},
   "outputs": [
    {
     "data": {
      "text/plain": [
       "0.0006692679336926878"
      ]
     },
     "execution_count": 7,
     "metadata": {},
     "output_type": "execute_result"
    }
   ],
   "source": [
    "#decrease p2 of 1%\n",
    "( Revenue(result[0][1]*0.99,150) - Revenue(result[0][1],150)) /(( Revenue(result[0][0],100) + Revenue(result[0][1],150) + Revenue(result[0][2],300)))"
   ]
  },
  {
   "cell_type": "code",
   "execution_count": 8,
   "metadata": {},
   "outputs": [
    {
     "data": {
      "text/plain": [
       "0.0013751960974212759"
      ]
     },
     "execution_count": 8,
     "metadata": {},
     "output_type": "execute_result"
    }
   ],
   "source": [
    "#decrease p3 of 1%\n",
    "( Revenue(result[0][2]*0.99,300) - Revenue(result[0][2],300)) /(( Revenue(result[0][0],100) + Revenue(result[0][1],150) + Revenue(result[0][2],300)))"
   ]
  },
  {
   "cell_type": "markdown",
   "metadata": {},
   "source": [
    "### Relative Variation of the people changing one price at a time of 1%:"
   ]
  },
  {
   "cell_type": "code",
   "execution_count": 9,
   "metadata": {},
   "outputs": [
    {
     "data": {
      "text/plain": [
       "0.0021966980775627383"
      ]
     },
     "execution_count": 9,
     "metadata": {},
     "output_type": "execute_result"
    }
   ],
   "source": [
    "#decrease p1 of 1%\n",
    "( DFunc(result[0][0]*0.99,100) - DFunc(result[0][0],100)) /(( DFunc(result[0][0],100) + DFunc(result[0][1],150) + DFunc(result[0][2],300)))"
   ]
  },
  {
   "cell_type": "code",
   "execution_count": 10,
   "metadata": {},
   "outputs": [
    {
     "data": {
      "text/plain": [
       "0.003497432826273852"
      ]
     },
     "execution_count": 10,
     "metadata": {},
     "output_type": "execute_result"
    }
   ],
   "source": [
    "#decrease p2 of 1%\n",
    "( DFunc(result[0][1]*0.99,150) - DFunc(result[0][1],150)) /(( DFunc(result[0][0],100) + DFunc(result[0][1],150) + DFunc(result[0][2],300)))"
   ]
  },
  {
   "cell_type": "code",
   "execution_count": 11,
   "metadata": {},
   "outputs": [
    {
     "data": {
      "text/plain": [
       "0.00728466115304396"
      ]
     },
     "execution_count": 11,
     "metadata": {},
     "output_type": "execute_result"
    }
   ],
   "source": [
    "#decrease p3 of 1%\n",
    "( DFunc(result[0][2]*0.99,300) - DFunc(result[0][2],300)) /(( DFunc(result[0][0],100) + DFunc(result[0][1],150) + DFunc(result[0][2],300)))"
   ]
  },
  {
   "cell_type": "code",
   "execution_count": 12,
   "metadata": {},
   "outputs": [
    {
     "data": {
      "text/plain": [
       "0.012978792056880479"
      ]
     },
     "execution_count": 12,
     "metadata": {},
     "output_type": "execute_result"
    }
   ],
   "source": [
    "#decrease p1, p2, p3 of 1% simultaneously\n",
    "(DFunc(result[0][0]*0.99,100) +  DFunc(result[0][1]*0.99,150) +  DFunc(result[0][2]*0.99,300) - (DFunc(result[0][0],100) +  DFunc(result[0][1],150) +  DFunc(result[0][2],300))) / (DFunc(result[0][0],100) +  DFunc(result[0][1],150) +  DFunc(result[0][2],300))\n"
   ]
  },
  {
   "cell_type": "markdown",
   "metadata": {},
   "source": [
    "### Absolute Variation of the people changing one price at a time of 1%:"
   ]
  },
  {
   "cell_type": "code",
   "execution_count": 13,
   "metadata": {},
   "outputs": [
    {
     "data": {
      "text/plain": [
       "0.3295047116659866"
      ]
     },
     "execution_count": 13,
     "metadata": {},
     "output_type": "execute_result"
    }
   ],
   "source": [
    "#decrease p1 of 1%:\n",
    "( DFunc(result[0][0]*0.99,100) - DFunc(result[0][0],100))"
   ]
  },
  {
   "cell_type": "code",
   "execution_count": 14,
   "metadata": {},
   "outputs": [
    {
     "data": {
      "text/plain": [
       "0.5246149239913507"
      ]
     },
     "execution_count": 14,
     "metadata": {},
     "output_type": "execute_result"
    }
   ],
   "source": [
    "#decrease p2 of 1%:\n",
    "( DFunc(result[0][1]*0.99,150) - DFunc(result[0][1],150))"
   ]
  },
  {
   "cell_type": "code",
   "execution_count": 15,
   "metadata": {},
   "outputs": [
    {
     "data": {
      "text/plain": [
       "1.0926991730613054"
      ]
     },
     "execution_count": 15,
     "metadata": {},
     "output_type": "execute_result"
    }
   ],
   "source": [
    "#decrease p3 of 1%:\n",
    "( DFunc(result[0][2]*0.99,300) - DFunc(result[0][2],300))"
   ]
  },
  {
   "cell_type": "code",
   "execution_count": 16,
   "metadata": {},
   "outputs": [
    {
     "data": {
      "text/plain": [
       "1.946818808718632"
      ]
     },
     "execution_count": 16,
     "metadata": {},
     "output_type": "execute_result"
    }
   ],
   "source": [
    "#decrease p1,p2,p3 of 1% simultaneously:\n",
    "DFunc(result[0][0]*0.99,100) +  DFunc(result[0][1]*0.99,150) +  DFunc(result[0][2]*0.99,300) - (DFunc(result[0][0],100) +  DFunc(result[0][1],150) +  DFunc(result[0][2],300))"
   ]
  },
  {
   "cell_type": "markdown",
   "metadata": {},
   "source": [
    "### Absolute Variation of the revenues changing one price at a time of 1%:"
   ]
  },
  {
   "cell_type": "code",
   "execution_count": 17,
   "metadata": {},
   "outputs": [
    {
     "data": {
      "text/plain": [
       "18.439950205462992"
      ]
     },
     "execution_count": 17,
     "metadata": {},
     "output_type": "execute_result"
    }
   ],
   "source": [
    "#decrease p1 of 1%:\n",
    "-( Revenue(result[0][0]*0.99,100) - Revenue(result[0][0],100)) "
   ]
  },
  {
   "cell_type": "code",
   "execution_count": 18,
   "metadata": {},
   "outputs": [
    {
     "data": {
      "text/plain": [
       "29.2275054557349"
      ]
     },
     "execution_count": 18,
     "metadata": {},
     "output_type": "execute_result"
    }
   ],
   "source": [
    "#decrease p2 of 1%:\n",
    "-( Revenue(result[0][1]*0.99,150) - Revenue(result[0][1],150))"
   ]
  },
  {
   "cell_type": "code",
   "execution_count": 19,
   "metadata": {},
   "outputs": [
    {
     "data": {
      "text/plain": [
       "60.055994642261794"
      ]
     },
     "execution_count": 19,
     "metadata": {},
     "output_type": "execute_result"
    }
   ],
   "source": [
    "#decrease p3 of 1%:\n",
    "-( Revenue(result[0][2]*0.99,300) - Revenue(result[0][2],300))"
   ]
  },
  {
   "cell_type": "code",
   "execution_count": 20,
   "metadata": {},
   "outputs": [
    {
     "data": {
      "text/plain": [
       "107.72345030345969"
      ]
     },
     "execution_count": 20,
     "metadata": {},
     "output_type": "execute_result"
    }
   ],
   "source": [
    "#decrease p1, p2, p3 of 1%:\n",
    "-( Revenue(result[0][0]*0.99,100) - Revenue(result[0][0],100)) -( Revenue(result[0][1]*0.99,150) - Revenue(result[0][1],150)) -( Revenue(result[0][2]*0.99,300) - Revenue(result[0][2],300))"
   ]
  },
  {
   "cell_type": "markdown",
   "metadata": {},
   "source": [
    "### Absolute variation of people if prices decrease of 1.5%"
   ]
  },
  {
   "cell_type": "code",
   "execution_count": 29,
   "metadata": {},
   "outputs": [
    {
     "name": "stdout",
     "output_type": "stream",
     "text": [
      "New prices: \n",
      " p1 =154.39719313072735 \n",
      " p2 =203.64719323229525 \n",
      " p3 =351.397193267121\n"
     ]
    }
   ],
   "source": [
    "print(\"New prices: \\n p1 ={0} \\n p2 ={1} \\n p3 ={2}\".format(result[0][0]*0.985, result[0][1]*0.985, result[0][2]*0.985 ))"
   ]
  },
  {
   "cell_type": "code",
   "execution_count": 21,
   "metadata": {},
   "outputs": [
    {
     "data": {
      "text/plain": [
       "2.9297913779934674"
      ]
     },
     "execution_count": 21,
     "metadata": {},
     "output_type": "execute_result"
    }
   ],
   "source": [
    "DFunc(result[0][0]*0.985,100) +  DFunc(result[0][1]*0.985,150) +  DFunc(result[0][2]*0.985,300) - (DFunc(result[0][0],100) +  DFunc(result[0][1],150) +  DFunc(result[0][2],300))"
   ]
  },
  {
   "cell_type": "markdown",
   "metadata": {},
   "source": [
    "### Absolute variation of revenues if prices decrease of 1.5%"
   ]
  },
  {
   "cell_type": "code",
   "execution_count": 22,
   "metadata": {},
   "outputs": [
    {
     "data": {
      "text/plain": [
       "160.03511881642817"
      ]
     },
     "execution_count": 22,
     "metadata": {},
     "output_type": "execute_result"
    }
   ],
   "source": [
    "-( Revenue(result[0][0]*0.985,100) - Revenue(result[0][0],100)) -( Revenue(result[0][1]*0.985,150) - Revenue(result[0][1],150)) -( Revenue(result[0][2]*0.985,300) - Revenue(result[0][2],300))"
   ]
  },
  {
   "cell_type": "markdown",
   "metadata": {},
   "source": [
    "### Alternative method"
   ]
  },
  {
   "cell_type": "code",
   "execution_count": 23,
   "metadata": {},
   "outputs": [
    {
     "name": "stdout",
     "output_type": "stream",
     "text": [
      "Delta P = -3.921329813411776\n"
     ]
    }
   ],
   "source": [
    "DeltaP = -3 / ( + DFunc(result[0][0],100)/100 + DFunc(result[0][1],150)/150 + DFunc(result[0][2],300)/300)\n",
    "\n",
    "print(\"Delta P = {0}\".format(DeltaP))"
   ]
  },
  {
   "cell_type": "code",
   "execution_count": 24,
   "metadata": {},
   "outputs": [
    {
     "name": "stdout",
     "output_type": "stream",
     "text": [
      "Variation % of revenues if the airplane transports 153 people rather than 150: 0.3809687102029361 %.\n",
      "Absolute Variation of revenues if the airplane transports 153 people rather than 150: 166.372307641941.\n"
     ]
    }
   ],
   "source": [
    "OldRevenue = -1 * ( Revenue(result[0][0],100) + Revenue(result[0][1],150) + Revenue(result[0][2],300))\n",
    "\n",
    "NewRevenue = -1 * ( Revenue(result[0][0] + DeltaP,100) + Revenue(result[0][1] + DeltaP,150) + Revenue(result[0][2] + DeltaP,300))\n",
    "\n",
    "print(\"Variation % of revenues if the airplane transports 153 people rather than 150: {0} %.\".format(100*(NewRevenue - OldRevenue)/OldRevenue))\n",
    "print(\"Absolute Variation of revenues if the airplane transports 153 people rather than 150: {0}.\".format((NewRevenue - OldRevenue)))"
   ]
  },
  {
   "cell_type": "markdown",
   "metadata": {},
   "source": [
    "#### Absolute variation of people using Alternative Method"
   ]
  },
  {
   "cell_type": "code",
   "execution_count": 25,
   "metadata": {},
   "outputs": [
    {
     "data": {
      "text/plain": [
       "3.037114462907624"
      ]
     },
     "execution_count": 25,
     "metadata": {},
     "output_type": "execute_result"
    }
   ],
   "source": [
    "DFunc(result[0][0]+DeltaP,100) +  DFunc(result[0][1]+DeltaP,150) +  DFunc(result[0][2]+DeltaP,300) - (DFunc(result[0][0],100) +  DFunc(result[0][1],150) +  DFunc(result[0][2],300))\n"
   ]
  },
  {
   "cell_type": "markdown",
   "metadata": {},
   "source": [
    "#### Absolute variation of revenues using Alternative Method"
   ]
  },
  {
   "cell_type": "code",
   "execution_count": 26,
   "metadata": {},
   "outputs": [
    {
     "data": {
      "text/plain": [
       "166.37230764194646"
      ]
     },
     "execution_count": 26,
     "metadata": {},
     "output_type": "execute_result"
    }
   ],
   "source": [
    "-( Revenue(result[0][0]+DeltaP,100) - Revenue(result[0][0],100)) -( Revenue(result[0][1]+DeltaP,150) - Revenue(result[0][1],150)) -( Revenue(result[0][2]+DeltaP,300) - Revenue(result[0][2],300))"
   ]
  },
  {
   "cell_type": "markdown",
   "metadata": {},
   "source": [
    "## Re-run the Langrange system with 153"
   ]
  },
  {
   "cell_type": "code",
   "execution_count": 27,
   "metadata": {},
   "outputs": [],
   "source": [
    "def myFunction(z):\n",
    "    p1 = z[0]\n",
    "    p2 = z[1]\n",
    "    p3 = z[2]\n",
    "    lambda4 = z[3]\n",
    "    \n",
    "    F = np.empty((4))\n",
    "    F[0] = ((p1-100) - lambda4)*np.exp(-p1/100)\n",
    "    F[1] = ((p2-150) - lambda4)*np.exp(-p2/150)\n",
    "    F[2] = ((p3-300) - lambda4)*np.exp(-p3/300)\n",
    "    F[3] = ( 100 * np.exp(-p1/100) + 150 * np.exp(-p2/150) + 300 * np.exp(-p3/300) - 153)\n",
    "    \n",
    "    return F\n",
    "\n",
    "\n",
    "resultIntermediate = fsolve(myFunction,zGuess)"
   ]
  },
  {
   "cell_type": "code",
   "execution_count": 28,
   "metadata": {},
   "outputs": [
    {
     "data": {
      "text/plain": [
       "array([152.87443254, 202.87443244, 352.87443251,  52.87443249])"
      ]
     },
     "execution_count": 28,
     "metadata": {},
     "output_type": "execute_result"
    }
   ],
   "source": [
    "resultIntermediate"
   ]
  },
  {
   "cell_type": "code",
   "execution_count": 31,
   "metadata": {},
   "outputs": [
    {
     "data": {
      "text/plain": [
       "2.99999998567327"
      ]
     },
     "execution_count": 31,
     "metadata": {},
     "output_type": "execute_result"
    }
   ],
   "source": [
    "#variation of people with new prices corresponding to flights with 153 peopele\n",
    "DFunc(resultIntermediate[0],100) +  DFunc(resultIntermediate[1],150) +  DFunc(resultIntermediate[2],300) - (DFunc(result[0][0],100) +  DFunc(result[0][1],150) +  DFunc(result[0][2],300))"
   ]
  },
  {
   "cell_type": "code",
   "execution_count": 33,
   "metadata": {},
   "outputs": [
    {
     "data": {
      "text/plain": [
       "164.41077931597738"
      ]
     },
     "execution_count": 33,
     "metadata": {},
     "output_type": "execute_result"
    }
   ],
   "source": [
    "-( Revenue(resultIntermediate[0],100) - Revenue(result[0][0],100)) -( Revenue(resultIntermediate[1],150) - Revenue(result[0][1],150)) -( Revenue(resultIntermediate[2],300) - Revenue(result[0][2],300))"
   ]
  },
  {
   "cell_type": "code",
   "execution_count": null,
   "metadata": {},
   "outputs": [],
   "source": []
  }
 ],
 "metadata": {
  "kernelspec": {
   "display_name": "Python 3",
   "language": "python",
   "name": "python3"
  },
  "language_info": {
   "codemirror_mode": {
    "name": "ipython",
    "version": 3
   },
   "file_extension": ".py",
   "mimetype": "text/x-python",
   "name": "python",
   "nbconvert_exporter": "python",
   "pygments_lexer": "ipython3",
   "version": "3.6.10"
  }
 },
 "nbformat": 4,
 "nbformat_minor": 4
}
